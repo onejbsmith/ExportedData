{
  "cells": [
    {
      "cell_type": "markdown",
      "id": "502962a8",
      "metadata": {
        "id": "502962a8"
      },
      "source": [
        "## Predicting Walmart's Quarterly Earnings - Pytorch LSTM Example\n",
        "### Applying LSTMs to Predict Quarterly Earnings\n",
        "\n",
        "This is the code accompanying my Medium article which you can find linked in the ReadMe. The code blocks follow the same pattern as those in the article!"
      ]
    },
    {
      "cell_type": "code",
      "execution_count": 74,
      "id": "b4586235",
      "metadata": {
        "id": "b4586235",
        "cellView": "form"
      },
      "outputs": [],
      "source": [
        "#@title -- Necessary Imports\n",
        "import pandas as pd\n",
        "import numpy as np\n",
        "import torch\n",
        "import torch.nn as nn\n",
        "import torch.optim as optim\n",
        "import datetime as dt\n",
        "\n",
        "import matplotlib.pyplot as plt\n",
        "import matplotlib as mpl\n",
        "%matplotlib inline"
      ]
    },
    {
      "cell_type": "code",
      "execution_count": 77,
      "id": "2d853a9f",
      "metadata": {
        "id": "2d853a9f",
        "outputId": "2835e0e6-b742-4515-a67d-b2ddc619243a",
        "colab": {
          "base_uri": "https://localhost:8080/"
        }
      },
      "outputs": [
        {
          "output_type": "stream",
          "name": "stdout",
          "text": [
            "                        close\n",
            "DateTime                     \n",
            "2023-03-27 15:09:00  12835.25\n",
            "2023-03-27 15:10:00  12825.75\n",
            "2023-03-27 15:11:00  12833.00\n",
            "2023-03-27 15:12:00  12843.50\n",
            "2023-03-27 15:13:00  12845.75\n",
            "...                       ...\n",
            "2023-03-27 18:12:00  12808.00\n",
            "2023-03-27 18:13:00  12811.75\n",
            "2023-03-27 18:14:00  12816.25\n",
            "2023-03-27 18:15:00  12813.50\n",
            "2023-03-27 18:16:00  12819.75\n",
            "\n",
            "[188 rows x 1 columns]\n"
          ]
        }
      ],
      "source": [
        "#@title Walmart Data\n",
        "url = 'https://raw.githubusercontent.com/rian-dolphin/Walmart_LSTM/main/WMT_Earnings.csv'\n",
        "url = \"https://raw.githubusercontent.com/onejbsmith/ExportedData/main/output.csv\"\n",
        "df = pd.read_csv(url, index_col='DateTime',parse_dates=True)\n",
        "\n",
        "\n",
        "#-- Using this we can select the amount of data to use, some of the very early years \n",
        "#- aren't formatted properly and will throw an error\n",
        "#df=df.iloc[:50]\n",
        "#-- Change the dates into a format that pandas will recognise\n",
        "#df.index = [df.index[i].split()[0]+\" \"+df.index[i].split()[2] for i# in range(len(df.index))]\n",
        "#-- Set index to correct format\n",
        "#df.index = pd.to_datetime(df['DateTime'])\n",
        "#-- Put the data in chronological order\n",
        "#df = df.iloc[::-1]\n",
        "#-- Only select data up to end of 2019\n",
        "#df = df[:\"2019\"]\n",
        "#-- Remove the B (standing for billion) from the values and store as float rather than a string\n",
        "#df.Value = [float(df.Value[i][:-1]) for i in range(len(df.Value))]\n",
        "\n",
        "print(df)"
      ]
    },
    {
      "cell_type": "code",
      "source": [
        "#@title import Nasdaq index data, visualize\n",
        "#Coverts tick data to data frame with date Time column\n",
        "\n",
        "url = \"https://raw.githubusercontent.com/onejbsmith/ExportedData/main/MNQ%2006-23-032723-tick.Last.2.csv\"\n",
        "df = pd.read_csv(url,parse_dates={'DateTime':['Day',' Time']})\n",
        "LIMIT = 250000\n",
        "df = df[:LIMIT]\n",
        "print(df)"
      ],
      "metadata": {
        "cellView": "form",
        "id": "HLVf5WtQx6yl"
      },
      "id": "HLVf5WtQx6yl",
      "execution_count": null,
      "outputs": []
    },
    {
      "cell_type": "code",
      "source": [
        "#@title Turn data to candles\n",
        "\n",
        "df = df.assign(Timestamp = pd.to_datetime(df['DateTime'],unit='m')).set_index('DateTime')\n",
        "\n",
        "\n",
        "candle_duration = '1T';\n",
        "candle_column = ' Last'\n",
        "#candle_column = ' Bid'\n",
        "df = df.resample(candle_duration)[candle_column].ohlc()\n",
        "\n",
        "print(df)"
      ],
      "metadata": {
        "id": "c9x7HpD_emqC",
        "cellView": "form"
      },
      "execution_count": null,
      "outputs": [],
      "id": "c9x7HpD_emqC"
    },
    {
      "cell_type": "code",
      "source": [
        "#@title Reduce to single column, Value\n",
        "\n",
        "print (df['close'])\n",
        "#df = [float(df.Value[i][:-1]) for i in range(len(df.Value))]\n",
        "#df.Value = [float(df['close'][i][:-1]) for i in range(len(df['close']))]\n",
        "\n",
        "#print(df) \n",
        "\n"
      ],
      "metadata": {
        "cellView": "form",
        "id": "znO_5PAKyhM6"
      },
      "id": "znO_5PAKyhM6",
      "execution_count": null,
      "outputs": []
    },
    {
      "cell_type": "code",
      "source": [
        "#@title Write to file\n",
        "\n",
        "from google.colab import files\n",
        "df['close'].to_csv('output.csv', encoding = 'utf-8-sig') \n",
        "files.download('output.csv')"
      ],
      "metadata": {
        "cellView": "form",
        "id": "Fa3VcPe18oSc",
        "outputId": "6cded04d-f4b0-479e-9385-dcff08a44642",
        "colab": {
          "base_uri": "https://localhost:8080/",
          "height": 17
        }
      },
      "id": "Fa3VcPe18oSc",
      "execution_count": 64,
      "outputs": [
        {
          "output_type": "display_data",
          "data": {
            "text/plain": [
              "<IPython.core.display.Javascript object>"
            ],
            "application/javascript": [
              "\n",
              "    async function download(id, filename, size) {\n",
              "      if (!google.colab.kernel.accessAllowed) {\n",
              "        return;\n",
              "      }\n",
              "      const div = document.createElement('div');\n",
              "      const label = document.createElement('label');\n",
              "      label.textContent = `Downloading \"${filename}\": `;\n",
              "      div.appendChild(label);\n",
              "      const progress = document.createElement('progress');\n",
              "      progress.max = size;\n",
              "      div.appendChild(progress);\n",
              "      document.body.appendChild(div);\n",
              "\n",
              "      const buffers = [];\n",
              "      let downloaded = 0;\n",
              "\n",
              "      const channel = await google.colab.kernel.comms.open(id);\n",
              "      // Send a message to notify the kernel that we're ready.\n",
              "      channel.send({})\n",
              "\n",
              "      for await (const message of channel.messages) {\n",
              "        // Send a message to notify the kernel that we're ready.\n",
              "        channel.send({})\n",
              "        if (message.buffers) {\n",
              "          for (const buffer of message.buffers) {\n",
              "            buffers.push(buffer);\n",
              "            downloaded += buffer.byteLength;\n",
              "            progress.value = downloaded;\n",
              "          }\n",
              "        }\n",
              "      }\n",
              "      const blob = new Blob(buffers, {type: 'application/binary'});\n",
              "      const a = document.createElement('a');\n",
              "      a.href = window.URL.createObjectURL(blob);\n",
              "      a.download = filename;\n",
              "      div.appendChild(a);\n",
              "      a.click();\n",
              "      div.remove();\n",
              "    }\n",
              "  "
            ]
          },
          "metadata": {}
        },
        {
          "output_type": "display_data",
          "data": {
            "text/plain": [
              "<IPython.core.display.Javascript object>"
            ],
            "application/javascript": [
              "download(\"download_a34f3330-694e-4e53-95a4-7e6ded350f8c\", \"output.csv\", 5368)"
            ]
          },
          "metadata": {}
        }
      ]
    },
    {
      "cell_type": "code",
      "execution_count": null,
      "id": "db36486f",
      "metadata": {
        "id": "db36486f"
      },
      "outputs": [],
      "source": [
        "def train_test(df, test_periods):\n",
        "    train = df[:-test_periods].values\n",
        "    test = df[-test_periods:].values\n",
        "    return train, test\n",
        "test_periods = 8\n",
        "train, test = train_test(df, test_periods)\n",
        "\n",
        "print(train)"
      ]
    },
    {
      "cell_type": "code",
      "execution_count": 79,
      "id": "9b370170",
      "metadata": {
        "id": "9b370170"
      },
      "outputs": [],
      "source": [
        "from sklearn.preprocessing import MinMaxScaler\n",
        "scaler = MinMaxScaler()\n",
        "scaler.fit(train)\n",
        "train_scaled = scaler.transform(train)"
      ]
    },
    {
      "cell_type": "code",
      "execution_count": 80,
      "id": "76e22e59",
      "metadata": {
        "colab": {
          "base_uri": "https://localhost:8080/"
        },
        "id": "76e22e59",
        "outputId": "9073d2a8-1698-4047-f222-b9c03cabbffc"
      },
      "outputs": [
        {
          "output_type": "stream",
          "name": "stdout",
          "text": [
            "Original dimensions : torch.Size([180, 1])\n",
            "Correct dimensions : torch.Size([180])\n"
          ]
        }
      ],
      "source": [
        "train_scaled = torch.FloatTensor(train_scaled)\n",
        "print(f'Original dimensions : {train_scaled.shape}')\n",
        "train_scaled = train_scaled.view(-1)\n",
        "print(f'Correct dimensions : {train_scaled.shape}')"
      ]
    },
    {
      "cell_type": "code",
      "execution_count": 81,
      "id": "30a62951",
      "metadata": {
        "colab": {
          "base_uri": "https://localhost:8080/"
        },
        "id": "30a62951",
        "outputId": "f72aafa9-596e-48cc-cde5-5e43adf3f20c"
      },
      "outputs": [
        {
          "output_type": "stream",
          "name": "stdout",
          "text": [
            "torch.Size([156, 16])\n",
            "torch.Size([156, 8])\n"
          ]
        }
      ],
      "source": [
        "def get_x_y_pairs(train_scaled, train_periods, prediction_periods):\n",
        "    \"\"\"\n",
        "    train_scaled - training sequence\n",
        "    train_periods - How many data points to use as inputs\n",
        "    prediction_periods - How many periods to ouput as predictions\n",
        "    \"\"\"\n",
        "    x_train = [train_scaled[i:i+train_periods] for i in range(len(train_scaled)-train_periods-prediction_periods)]\n",
        "    y_train = [train_scaled[i+train_periods:i+train_periods+prediction_periods] for i in range(len(train_scaled)-train_periods-prediction_periods)]\n",
        "    \n",
        "    #-- use the stack function to convert the list of 1D tensors\n",
        "    # into a 2D tensor where each element of the list is now a row\n",
        "    x_train = torch.stack(x_train)\n",
        "    y_train = torch.stack(y_train)\n",
        "    \n",
        "    return x_train, y_train\n",
        "\n",
        "train_periods = 16 #-- number of quarters for input\n",
        "prediction_periods = test_periods\n",
        "x_train, y_train = get_x_y_pairs(train_scaled, train_periods, prediction_periods)\n",
        "print(x_train.shape)\n",
        "print(y_train.shape)"
      ]
    },
    {
      "cell_type": "code",
      "execution_count": 82,
      "id": "1662f1d4",
      "metadata": {
        "id": "1662f1d4"
      },
      "outputs": [],
      "source": [
        "class LSTM(nn.Module):\n",
        "    \"\"\"\n",
        "    input_size - will be 1 in this example since we have only 1 predictor (a sequence of previous values)\n",
        "    hidden_size - Can be chosen to dictate how much hidden \"long term memory\" the network will have\n",
        "    output_size - This will be equal to the prediciton_periods input to get_x_y_pairs\n",
        "    \"\"\"\n",
        "    def __init__(self, input_size, hidden_size, output_size):\n",
        "        super(LSTM, self).__init__()\n",
        "        self.hidden_size = hidden_size\n",
        "        \n",
        "        self.lstm = nn.LSTM(input_size, hidden_size)\n",
        "        \n",
        "        self.linear = nn.Linear(hidden_size, output_size)\n",
        "        \n",
        "    def forward(self, x, hidden=None):\n",
        "        if hidden==None:\n",
        "            self.hidden = (torch.zeros(1,1,self.hidden_size),\n",
        "                           torch.zeros(1,1,self.hidden_size))\n",
        "        else:\n",
        "            self.hidden = hidden\n",
        "            \n",
        "        \"\"\"\n",
        "        inputs need to be in the right shape as defined in documentation\n",
        "        - https://pytorch.org/docs/stable/generated/torch.nn.LSTM.html\n",
        "        \n",
        "        lstm_out - will contain the hidden states from all times in the sequence\n",
        "        self.hidden - will contain the current hidden state and cell state\n",
        "        \"\"\"\n",
        "        lstm_out, self.hidden = self.lstm(x.view(len(x),1,-1), \n",
        "                                          self.hidden)\n",
        "        \n",
        "        predictions = self.linear(lstm_out.view(len(x), -1))\n",
        "        \n",
        "        return predictions[-1], self.hidden"
      ]
    },
    {
      "cell_type": "code",
      "execution_count": 83,
      "id": "bd96e971",
      "metadata": {
        "id": "bd96e971"
      },
      "outputs": [],
      "source": [
        "model = LSTM(input_size=1, hidden_size=50, output_size=test_periods)\n",
        "criterion = nn.MSELoss()\n",
        "optimizer = optim.Adam(model.parameters(), lr=0.001)"
      ]
    },
    {
      "cell_type": "code",
      "execution_count": 84,
      "id": "a1973cd5",
      "metadata": {
        "colab": {
          "base_uri": "https://localhost:8080/"
        },
        "id": "a1973cd5",
        "outputId": "1176a6f6-a1c5-478c-e728-cada18a785fb"
      },
      "outputs": [
        {
          "output_type": "stream",
          "name": "stdout",
          "text": [
            "epoch:    0 loss:0.00785686\n",
            "epoch:  100 loss:0.01266602\n",
            "epoch:  200 loss:0.00887423\n",
            "epoch:  300 loss:0.00392420\n",
            "epoch:  400 loss:0.00149685\n",
            "epoch:  500 loss:0.00040660\n",
            "epoch:  600 loss:0.00044032\n"
          ]
        }
      ],
      "source": [
        "epochs = 600\n",
        "model.train()\n",
        "for epoch in range(epochs+1):\n",
        "    for x,y in zip(x_train, y_train):\n",
        "        y_hat, _ = model(x, None)\n",
        "        optimizer.zero_grad()\n",
        "        loss = criterion(y_hat, y)\n",
        "        loss.backward()\n",
        "        optimizer.step()\n",
        "        \n",
        "    if epoch%100==0:\n",
        "        print(f'epoch: {epoch:4} loss:{loss.item():10.8f}')"
      ]
    },
    {
      "cell_type": "code",
      "execution_count": 130,
      "id": "5d14fcc4",
      "metadata": {
        "id": "5d14fcc4",
        "outputId": "a60c19cb-6f7a-4c4d-af94-b15f6c23e20e",
        "colab": {
          "base_uri": "https://localhost:8080/"
        }
      },
      "outputs": [
        {
          "output_type": "execute_result",
          "data": {
            "text/plain": [
              "['15:09:00',\n",
              " '15:10:00',\n",
              " '15:11:00',\n",
              " '15:12:00',\n",
              " '15:13:00',\n",
              " '15:14:00',\n",
              " '15:15:00',\n",
              " '15:16:00',\n",
              " '15:17:00',\n",
              " '15:18:00',\n",
              " '15:19:00',\n",
              " '15:20:00',\n",
              " '15:21:00',\n",
              " '15:22:00',\n",
              " '15:23:00',\n",
              " '15:24:00',\n",
              " '15:25:00',\n",
              " '15:26:00',\n",
              " '15:27:00',\n",
              " '15:28:00',\n",
              " '15:29:00',\n",
              " '15:30:00',\n",
              " '15:31:00',\n",
              " '15:32:00',\n",
              " '15:33:00',\n",
              " '15:34:00',\n",
              " '15:35:00',\n",
              " '15:36:00',\n",
              " '15:37:00',\n",
              " '15:38:00',\n",
              " '15:39:00',\n",
              " '15:40:00',\n",
              " '15:41:00',\n",
              " '15:42:00',\n",
              " '15:43:00',\n",
              " '15:44:00',\n",
              " '15:45:00',\n",
              " '15:46:00',\n",
              " '15:47:00',\n",
              " '15:48:00',\n",
              " '15:49:00',\n",
              " '15:50:00',\n",
              " '15:51:00',\n",
              " '15:52:00',\n",
              " '15:53:00',\n",
              " '15:54:00',\n",
              " '15:55:00',\n",
              " '15:56:00',\n",
              " '15:57:00',\n",
              " '15:58:00',\n",
              " '15:59:00',\n",
              " '16:00:00',\n",
              " '16:01:00',\n",
              " '16:02:00',\n",
              " '16:03:00',\n",
              " '16:04:00',\n",
              " '16:05:00',\n",
              " '16:06:00',\n",
              " '16:07:00',\n",
              " '16:08:00',\n",
              " '16:09:00',\n",
              " '16:10:00',\n",
              " '16:11:00',\n",
              " '16:12:00',\n",
              " '16:13:00',\n",
              " '16:14:00',\n",
              " '16:15:00',\n",
              " '16:16:00',\n",
              " '16:17:00',\n",
              " '16:18:00',\n",
              " '16:19:00',\n",
              " '16:20:00',\n",
              " '16:21:00',\n",
              " '16:22:00',\n",
              " '16:23:00',\n",
              " '16:24:00',\n",
              " '16:25:00',\n",
              " '16:26:00',\n",
              " '16:27:00',\n",
              " '16:28:00',\n",
              " '16:29:00',\n",
              " '16:30:00',\n",
              " '16:31:00',\n",
              " '16:32:00',\n",
              " '16:33:00',\n",
              " '16:34:00',\n",
              " '16:35:00',\n",
              " '16:36:00',\n",
              " '16:37:00',\n",
              " '16:38:00',\n",
              " '16:39:00',\n",
              " '16:40:00',\n",
              " '16:41:00',\n",
              " '16:42:00',\n",
              " '16:43:00',\n",
              " '16:44:00',\n",
              " '16:45:00',\n",
              " '16:46:00',\n",
              " '16:47:00',\n",
              " '16:48:00',\n",
              " '16:49:00',\n",
              " '16:50:00',\n",
              " '16:51:00',\n",
              " '16:52:00',\n",
              " '16:53:00',\n",
              " '16:54:00',\n",
              " '16:55:00',\n",
              " '16:56:00',\n",
              " '16:57:00',\n",
              " '16:58:00',\n",
              " '16:59:00',\n",
              " '17:00:00',\n",
              " '17:01:00',\n",
              " '17:02:00',\n",
              " '17:03:00',\n",
              " '17:04:00',\n",
              " '17:05:00',\n",
              " '17:06:00',\n",
              " '17:07:00',\n",
              " '17:08:00',\n",
              " '17:09:00',\n",
              " '17:10:00',\n",
              " '17:11:00',\n",
              " '17:12:00',\n",
              " '17:13:00',\n",
              " '17:14:00',\n",
              " '17:15:00',\n",
              " '17:16:00',\n",
              " '17:17:00',\n",
              " '17:18:00',\n",
              " '17:19:00',\n",
              " '17:20:00',\n",
              " '17:21:00',\n",
              " '17:22:00',\n",
              " '17:23:00',\n",
              " '17:24:00',\n",
              " '17:25:00',\n",
              " '17:26:00',\n",
              " '17:27:00',\n",
              " '17:28:00',\n",
              " '17:29:00',\n",
              " '17:30:00',\n",
              " '17:31:00',\n",
              " '17:32:00',\n",
              " '17:33:00',\n",
              " '17:34:00',\n",
              " '17:35:00',\n",
              " '17:36:00',\n",
              " '17:37:00',\n",
              " '17:38:00',\n",
              " '17:39:00',\n",
              " '17:40:00',\n",
              " '17:41:00',\n",
              " '17:42:00',\n",
              " '17:43:00',\n",
              " '17:44:00',\n",
              " '17:45:00',\n",
              " '17:46:00',\n",
              " '17:47:00',\n",
              " '17:48:00',\n",
              " '17:49:00',\n",
              " '17:50:00',\n",
              " '17:51:00',\n",
              " '17:52:00',\n",
              " '17:53:00',\n",
              " '17:54:00',\n",
              " '17:55:00',\n",
              " '17:56:00',\n",
              " '17:57:00',\n",
              " '17:58:00',\n",
              " '17:59:00',\n",
              " '18:00:00',\n",
              " '18:01:00',\n",
              " '18:02:00',\n",
              " '18:03:00',\n",
              " '18:04:00',\n",
              " '18:05:00',\n",
              " '18:06:00',\n",
              " '18:07:00',\n",
              " '18:08:00']"
            ]
          },
          "metadata": {},
          "execution_count": 130
        }
      ],
      "source": [
        "model.eval()\n",
        "with torch.no_grad():\n",
        "    predictions, _ = model(train_scaled[-train_periods:], None)\n",
        "#-- Apply inverse transform to undo scaling\n",
        "predictions = scaler.inverse_transform(np.array(predictions.reshape(-1,1)))\n",
        "\n",
        "predictions\n",
        "\n",
        "df[:-len(predictions)]\n",
        "\n",
        "df.index\n",
        "\n",
        "x = [dt.datetime.time(d) for d in df.index]\n",
        "\n",
        "x[:-len(predictions)] #\n",
        "#x.strptime(\"%H:%M:%S.%f\")\n",
        "#str(x[:-len(predictions)][10])\n",
        "\n",
        "#str(x)[:-len(predictions)]\n",
        "a = []\n",
        "for t in x:\n",
        " a.append( str(t))\n",
        "\n",
        "x = a\n",
        "x[:-len(predictions)]"
      ]
    },
    {
      "cell_type": "code",
      "execution_count": 131,
      "id": "435a4469",
      "metadata": {
        "colab": {
          "base_uri": "https://localhost:8080/",
          "height": 479
        },
        "id": "435a4469",
        "outputId": "437e99ca-310b-4901-80c2-40a3b91e8f08"
      },
      "outputs": [
        {
          "output_type": "display_data",
          "data": {
            "text/plain": [
              "<Figure size 1000x500 with 1 Axes>"
            ],
            "image/png": "[encoded data removed]"
          },
          "metadata": {}
        }
      ],
      "source": [
        "#x = [dt.datetime.date(d) for d in df.index]\n",
        "font = {'size'   : 15}\n",
        "\n",
        "mpl.rc('font', **font)\n",
        "fig = plt.figure(figsize=(10,5))\n",
        "plt.title('Walmart Quarterly Revenue')\n",
        "plt.ylabel('Revenue (Billions)')\n",
        "plt.grid(True)\n",
        "plt.plot(x[:-len(predictions)],\n",
        "         df['close'][:-len(predictions)],\n",
        "         \"b-\")\n",
        "plt.plot(x[-len(predictions):],\n",
        "         df['close'][-len(predictions):],\n",
        "         \"b--\",\n",
        "         label='True Values')\n",
        "plt.plot(x[-len(predictions):],\n",
        "         predictions,\n",
        "         \"r-\",\n",
        "         label='Predicted Values')\n",
        "plt.legend()\n",
        "plt.savefig('plot1', dpi=600)"
      ]
    },
    {
      "cell_type": "code",
      "execution_count": null,
      "id": "b4fe3e8a",
      "metadata": {
        "id": "b4fe3e8a"
      },
      "outputs": [],
      "source": []
    }
  ],
  "metadata": {
    "kernelspec": {
      "display_name": "Python 3",
      "language": "python",
      "name": "python3"
    },
    "language_info": {
      "codemirror_mode": {
        "name": "ipython",
        "version": 3
      },
      "file_extension": ".py",
      "mimetype": "text/x-python",
      "name": "python",
      "nbconvert_exporter": "python",
      "pygments_lexer": "ipython3",
      "version": "3.6.13"
    },
    "colab": {
      "provenance": []
    }
  },
  "nbformat": 4,
  "nbformat_minor": 5
}